{
 "cells": [
  {
   "cell_type": "markdown",
   "metadata": {},
   "source": [
    "## Migration Animal Dataset\n",
    "### Load the data set from local csv. file"
   ]
  },
  {
   "cell_type": "code",
   "execution_count": 1,
   "metadata": {},
   "outputs": [],
   "source": [
    "import pandas as pd"
   ]
  },
  {
   "cell_type": "code",
   "execution_count": 2,
   "metadata": {},
   "outputs": [],
   "source": [
    "animal = pd.read_csv('migration_original.csv', encoding = 'unicode_escape')"
   ]
  },
  {
   "cell_type": "markdown",
   "metadata": {},
   "source": [
    "## Display the data"
   ]
  },
  {
   "cell_type": "code",
   "execution_count": 3,
   "metadata": {},
   "outputs": [
    {
     "data": {
      "text/html": [
       "<div>\n",
       "<style scoped>\n",
       "    .dataframe tbody tr th:only-of-type {\n",
       "        vertical-align: middle;\n",
       "    }\n",
       "\n",
       "    .dataframe tbody tr th {\n",
       "        vertical-align: top;\n",
       "    }\n",
       "\n",
       "    .dataframe thead th {\n",
       "        text-align: right;\n",
       "    }\n",
       "</style>\n",
       "<table border=\"1\" class=\"dataframe\">\n",
       "  <thead>\n",
       "    <tr style=\"text-align: right;\">\n",
       "      <th></th>\n",
       "      <th>event-id</th>\n",
       "      <th>visible</th>\n",
       "      <th>timestamp</th>\n",
       "      <th>location-long</th>\n",
       "      <th>location-lat</th>\n",
       "      <th>manually-marked-outlier</th>\n",
       "      <th>visible.1</th>\n",
       "      <th>sensor-type</th>\n",
       "      <th>individual-taxon-canonical-name</th>\n",
       "      <th>tag-local-identifier</th>\n",
       "      <th>individual-local-identifier</th>\n",
       "      <th>study-name</th>\n",
       "      <th>ECMWF Interim Full Daily Invariant Low Vegetation Cover</th>\n",
       "      <th>NCEP NARR SFC Vegetation at Surface</th>\n",
       "      <th>ECMWF Interim Full Daily Invariant High Vegetation Cover</th>\n",
       "    </tr>\n",
       "  </thead>\n",
       "  <tbody>\n",
       "    <tr>\n",
       "      <th>0</th>\n",
       "      <td>1082620685</td>\n",
       "      <td>True</td>\n",
       "      <td>2009-05-27 14:00:00.000</td>\n",
       "      <td>24.58617</td>\n",
       "      <td>61.24783</td>\n",
       "      <td>NaN</td>\n",
       "      <td>True</td>\n",
       "      <td>gps</td>\n",
       "      <td>Larus fuscus</td>\n",
       "      <td>91732</td>\n",
       "      <td>91732A</td>\n",
       "      <td>Navigation experiments in lesser black-backed ...</td>\n",
       "      <td>0.039229</td>\n",
       "      <td>NaN</td>\n",
       "      <td>0.960771</td>\n",
       "    </tr>\n",
       "    <tr>\n",
       "      <th>1</th>\n",
       "      <td>1082620686</td>\n",
       "      <td>True</td>\n",
       "      <td>2009-05-27 20:00:00.000</td>\n",
       "      <td>24.58217</td>\n",
       "      <td>61.23267</td>\n",
       "      <td>NaN</td>\n",
       "      <td>True</td>\n",
       "      <td>gps</td>\n",
       "      <td>Larus fuscus</td>\n",
       "      <td>91732</td>\n",
       "      <td>91732A</td>\n",
       "      <td>Navigation experiments in lesser black-backed ...</td>\n",
       "      <td>0.040803</td>\n",
       "      <td>NaN</td>\n",
       "      <td>0.959197</td>\n",
       "    </tr>\n",
       "    <tr>\n",
       "      <th>2</th>\n",
       "      <td>1082620687</td>\n",
       "      <td>True</td>\n",
       "      <td>2009-05-28 05:00:00.000</td>\n",
       "      <td>24.53133</td>\n",
       "      <td>61.18833</td>\n",
       "      <td>NaN</td>\n",
       "      <td>True</td>\n",
       "      <td>gps</td>\n",
       "      <td>Larus fuscus</td>\n",
       "      <td>91732</td>\n",
       "      <td>91732A</td>\n",
       "      <td>Navigation experiments in lesser black-backed ...</td>\n",
       "      <td>0.052201</td>\n",
       "      <td>NaN</td>\n",
       "      <td>0.947799</td>\n",
       "    </tr>\n",
       "    <tr>\n",
       "      <th>3</th>\n",
       "      <td>1082620688</td>\n",
       "      <td>True</td>\n",
       "      <td>2009-05-28 08:00:00.000</td>\n",
       "      <td>24.58200</td>\n",
       "      <td>61.23283</td>\n",
       "      <td>NaN</td>\n",
       "      <td>True</td>\n",
       "      <td>gps</td>\n",
       "      <td>Larus fuscus</td>\n",
       "      <td>91732</td>\n",
       "      <td>91732A</td>\n",
       "      <td>Navigation experiments in lesser black-backed ...</td>\n",
       "      <td>0.040818</td>\n",
       "      <td>NaN</td>\n",
       "      <td>0.959182</td>\n",
       "    </tr>\n",
       "    <tr>\n",
       "      <th>4</th>\n",
       "      <td>1082620689</td>\n",
       "      <td>True</td>\n",
       "      <td>2009-05-28 14:00:00.000</td>\n",
       "      <td>24.58250</td>\n",
       "      <td>61.23267</td>\n",
       "      <td>NaN</td>\n",
       "      <td>True</td>\n",
       "      <td>gps</td>\n",
       "      <td>Larus fuscus</td>\n",
       "      <td>91732</td>\n",
       "      <td>91732A</td>\n",
       "      <td>Navigation experiments in lesser black-backed ...</td>\n",
       "      <td>0.040753</td>\n",
       "      <td>NaN</td>\n",
       "      <td>0.959247</td>\n",
       "    </tr>\n",
       "  </tbody>\n",
       "</table>\n",
       "</div>"
      ],
      "text/plain": [
       "     event-id  visible                timestamp  location-long  location-lat  \\\n",
       "0  1082620685     True  2009-05-27 14:00:00.000       24.58617      61.24783   \n",
       "1  1082620686     True  2009-05-27 20:00:00.000       24.58217      61.23267   \n",
       "2  1082620687     True  2009-05-28 05:00:00.000       24.53133      61.18833   \n",
       "3  1082620688     True  2009-05-28 08:00:00.000       24.58200      61.23283   \n",
       "4  1082620689     True  2009-05-28 14:00:00.000       24.58250      61.23267   \n",
       "\n",
       "   manually-marked-outlier  visible.1 sensor-type  \\\n",
       "0                      NaN       True         gps   \n",
       "1                      NaN       True         gps   \n",
       "2                      NaN       True         gps   \n",
       "3                      NaN       True         gps   \n",
       "4                      NaN       True         gps   \n",
       "\n",
       "  individual-taxon-canonical-name  tag-local-identifier  \\\n",
       "0                    Larus fuscus                 91732   \n",
       "1                    Larus fuscus                 91732   \n",
       "2                    Larus fuscus                 91732   \n",
       "3                    Larus fuscus                 91732   \n",
       "4                    Larus fuscus                 91732   \n",
       "\n",
       "  individual-local-identifier  \\\n",
       "0                      91732A   \n",
       "1                      91732A   \n",
       "2                      91732A   \n",
       "3                      91732A   \n",
       "4                      91732A   \n",
       "\n",
       "                                          study-name  \\\n",
       "0  Navigation experiments in lesser black-backed ...   \n",
       "1  Navigation experiments in lesser black-backed ...   \n",
       "2  Navigation experiments in lesser black-backed ...   \n",
       "3  Navigation experiments in lesser black-backed ...   \n",
       "4  Navigation experiments in lesser black-backed ...   \n",
       "\n",
       "   ECMWF Interim Full Daily Invariant Low Vegetation Cover  \\\n",
       "0                                           0.039229         \n",
       "1                                           0.040803         \n",
       "2                                           0.052201         \n",
       "3                                           0.040818         \n",
       "4                                           0.040753         \n",
       "\n",
       "   NCEP NARR SFC Vegetation at Surface  \\\n",
       "0                                  NaN   \n",
       "1                                  NaN   \n",
       "2                                  NaN   \n",
       "3                                  NaN   \n",
       "4                                  NaN   \n",
       "\n",
       "   ECMWF Interim Full Daily Invariant High Vegetation Cover  \n",
       "0                                           0.960771         \n",
       "1                                           0.959197         \n",
       "2                                           0.947799         \n",
       "3                                           0.959182         \n",
       "4                                           0.959247         "
      ]
     },
     "execution_count": 3,
     "metadata": {},
     "output_type": "execute_result"
    }
   ],
   "source": [
    "animal.head(5)"
   ]
  },
  {
   "cell_type": "markdown",
   "metadata": {},
   "source": [
    "## Simple statistics of the data"
   ]
  },
  {
   "cell_type": "code",
   "execution_count": 4,
   "metadata": {},
   "outputs": [
    {
     "data": {
      "text/plain": [
       "Index(['event-id', 'visible', 'timestamp', 'location-long', 'location-lat',\n",
       "       'manually-marked-outlier', 'visible.1', 'sensor-type',\n",
       "       'individual-taxon-canonical-name', 'tag-local-identifier',\n",
       "       'individual-local-identifier', 'study-name',\n",
       "       'ECMWF Interim Full Daily Invariant Low Vegetation Cover',\n",
       "       'NCEP NARR SFC Vegetation at Surface',\n",
       "       'ECMWF Interim Full Daily Invariant High Vegetation Cover'],\n",
       "      dtype='object')"
      ]
     },
     "execution_count": 4,
     "metadata": {},
     "output_type": "execute_result"
    }
   ],
   "source": [
    "animal.columns"
   ]
  },
  {
   "cell_type": "code",
   "execution_count": 5,
   "metadata": {},
   "outputs": [],
   "source": [
    "animal.columns = ['event_id', 'visible', 'timestamp', 'location_long', 'location_lat',\n",
    "       'manually_marked_outlier', 'visible.1', 'sensor_type',\n",
    "       'individual_taxon_canonical_name', 'tag_local_identifier',\n",
    "       'individual_local_identifier', 'study-name',\n",
    "       'ECMWF Interim Full Daily Invariant Low Vegetation Cover',\n",
    "       'NCEP NARR SFC Vegetation at Surface',\n",
    "       'ECMWF Interim Full Daily Invariant High Vegetation Cover']"
   ]
  },
  {
   "cell_type": "code",
   "execution_count": 6,
   "metadata": {},
   "outputs": [
    {
     "data": {
      "text/html": [
       "<div>\n",
       "<style scoped>\n",
       "    .dataframe tbody tr th:only-of-type {\n",
       "        vertical-align: middle;\n",
       "    }\n",
       "\n",
       "    .dataframe tbody tr th {\n",
       "        vertical-align: top;\n",
       "    }\n",
       "\n",
       "    .dataframe thead th {\n",
       "        text-align: right;\n",
       "    }\n",
       "</style>\n",
       "<table border=\"1\" class=\"dataframe\">\n",
       "  <thead>\n",
       "    <tr style=\"text-align: right;\">\n",
       "      <th></th>\n",
       "      <th>event_id</th>\n",
       "      <th>location_long</th>\n",
       "      <th>location_lat</th>\n",
       "      <th>manually_marked_outlier</th>\n",
       "      <th>tag_local_identifier</th>\n",
       "      <th>ECMWF Interim Full Daily Invariant Low Vegetation Cover</th>\n",
       "      <th>NCEP NARR SFC Vegetation at Surface</th>\n",
       "      <th>ECMWF Interim Full Daily Invariant High Vegetation Cover</th>\n",
       "    </tr>\n",
       "  </thead>\n",
       "  <tbody>\n",
       "    <tr>\n",
       "      <th>count</th>\n",
       "      <td>8.986700e+04</td>\n",
       "      <td>89867.000000</td>\n",
       "      <td>89867.000000</td>\n",
       "      <td>0.0</td>\n",
       "      <td>89867.000000</td>\n",
       "      <td>89867.000000</td>\n",
       "      <td>0.0</td>\n",
       "      <td>89867.000000</td>\n",
       "    </tr>\n",
       "    <tr>\n",
       "      <th>mean</th>\n",
       "      <td>1.077152e+09</td>\n",
       "      <td>31.091527</td>\n",
       "      <td>31.958247</td>\n",
       "      <td>NaN</td>\n",
       "      <td>91809.564356</td>\n",
       "      <td>0.205523</td>\n",
       "      <td>NaN</td>\n",
       "      <td>0.333821</td>\n",
       "    </tr>\n",
       "    <tr>\n",
       "      <th>std</th>\n",
       "      <td>7.135704e+07</td>\n",
       "      <td>8.339180</td>\n",
       "      <td>24.841950</td>\n",
       "      <td>NaN</td>\n",
       "      <td>57.286126</td>\n",
       "      <td>0.245880</td>\n",
       "      <td>NaN</td>\n",
       "      <td>0.362686</td>\n",
       "    </tr>\n",
       "    <tr>\n",
       "      <th>min</th>\n",
       "      <td>1.507232e+08</td>\n",
       "      <td>4.025170</td>\n",
       "      <td>-2.406330</td>\n",
       "      <td>NaN</td>\n",
       "      <td>91732.000000</td>\n",
       "      <td>0.000000</td>\n",
       "      <td>NaN</td>\n",
       "      <td>0.000000</td>\n",
       "    </tr>\n",
       "    <tr>\n",
       "      <th>25%</th>\n",
       "      <td>1.082617e+09</td>\n",
       "      <td>24.612415</td>\n",
       "      <td>7.998415</td>\n",
       "      <td>NaN</td>\n",
       "      <td>91761.000000</td>\n",
       "      <td>0.015506</td>\n",
       "      <td>NaN</td>\n",
       "      <td>0.007435</td>\n",
       "    </tr>\n",
       "    <tr>\n",
       "      <th>50%</th>\n",
       "      <td>1.082645e+09</td>\n",
       "      <td>32.610170</td>\n",
       "      <td>31.171500</td>\n",
       "      <td>NaN</td>\n",
       "      <td>91810.000000</td>\n",
       "      <td>0.082805</td>\n",
       "      <td>NaN</td>\n",
       "      <td>0.230597</td>\n",
       "    </tr>\n",
       "    <tr>\n",
       "      <th>75%</th>\n",
       "      <td>1.082677e+09</td>\n",
       "      <td>34.956165</td>\n",
       "      <td>59.762580</td>\n",
       "      <td>NaN</td>\n",
       "      <td>91846.000000</td>\n",
       "      <td>0.372705</td>\n",
       "      <td>NaN</td>\n",
       "      <td>0.624758</td>\n",
       "    </tr>\n",
       "    <tr>\n",
       "      <th>max</th>\n",
       "      <td>1.082711e+09</td>\n",
       "      <td>58.522830</td>\n",
       "      <td>65.232500</td>\n",
       "      <td>NaN</td>\n",
       "      <td>91930.000000</td>\n",
       "      <td>0.999939</td>\n",
       "      <td>NaN</td>\n",
       "      <td>1.000000</td>\n",
       "    </tr>\n",
       "  </tbody>\n",
       "</table>\n",
       "</div>"
      ],
      "text/plain": [
       "           event_id  location_long  location_lat  manually_marked_outlier  \\\n",
       "count  8.986700e+04   89867.000000  89867.000000                      0.0   \n",
       "mean   1.077152e+09      31.091527     31.958247                      NaN   \n",
       "std    7.135704e+07       8.339180     24.841950                      NaN   \n",
       "min    1.507232e+08       4.025170     -2.406330                      NaN   \n",
       "25%    1.082617e+09      24.612415      7.998415                      NaN   \n",
       "50%    1.082645e+09      32.610170     31.171500                      NaN   \n",
       "75%    1.082677e+09      34.956165     59.762580                      NaN   \n",
       "max    1.082711e+09      58.522830     65.232500                      NaN   \n",
       "\n",
       "       tag_local_identifier  \\\n",
       "count          89867.000000   \n",
       "mean           91809.564356   \n",
       "std               57.286126   \n",
       "min            91732.000000   \n",
       "25%            91761.000000   \n",
       "50%            91810.000000   \n",
       "75%            91846.000000   \n",
       "max            91930.000000   \n",
       "\n",
       "       ECMWF Interim Full Daily Invariant Low Vegetation Cover  \\\n",
       "count                                       89867.000000         \n",
       "mean                                            0.205523         \n",
       "std                                             0.245880         \n",
       "min                                             0.000000         \n",
       "25%                                             0.015506         \n",
       "50%                                             0.082805         \n",
       "75%                                             0.372705         \n",
       "max                                             0.999939         \n",
       "\n",
       "       NCEP NARR SFC Vegetation at Surface  \\\n",
       "count                                  0.0   \n",
       "mean                                   NaN   \n",
       "std                                    NaN   \n",
       "min                                    NaN   \n",
       "25%                                    NaN   \n",
       "50%                                    NaN   \n",
       "75%                                    NaN   \n",
       "max                                    NaN   \n",
       "\n",
       "       ECMWF Interim Full Daily Invariant High Vegetation Cover  \n",
       "count                                       89867.000000         \n",
       "mean                                            0.333821         \n",
       "std                                             0.362686         \n",
       "min                                             0.000000         \n",
       "25%                                             0.007435         \n",
       "50%                                             0.230597         \n",
       "75%                                             0.624758         \n",
       "max                                             1.000000         "
      ]
     },
     "execution_count": 6,
     "metadata": {},
     "output_type": "execute_result"
    }
   ],
   "source": [
    "animal.describe()"
   ]
  },
  {
   "cell_type": "code",
   "execution_count": 7,
   "metadata": {},
   "outputs": [
    {
     "data": {
      "text/plain": [
       "count    89867.000000\n",
       "mean        31.091527\n",
       "std          8.339180\n",
       "min          4.025170\n",
       "25%         24.612415\n",
       "50%         32.610170\n",
       "75%         34.956165\n",
       "max         58.522830\n",
       "Name: location_long, dtype: float64"
      ]
     },
     "execution_count": 7,
     "metadata": {},
     "output_type": "execute_result"
    }
   ],
   "source": [
    "animal.location_long.describe()"
   ]
  },
  {
   "cell_type": "code",
   "execution_count": 8,
   "metadata": {},
   "outputs": [
    {
     "data": {
      "text/plain": [
       "count    89867.000000\n",
       "mean        31.958247\n",
       "std         24.841950\n",
       "min         -2.406330\n",
       "25%          7.998415\n",
       "50%         31.171500\n",
       "75%         59.762580\n",
       "max         65.232500\n",
       "Name: location_lat, dtype: float64"
      ]
     },
     "execution_count": 8,
     "metadata": {},
     "output_type": "execute_result"
    }
   ],
   "source": [
    "animal.location_lat.describe()"
   ]
  },
  {
   "cell_type": "code",
   "execution_count": 9,
   "metadata": {},
   "outputs": [
    {
     "data": {
      "text/plain": [
       "count     89867\n",
       "unique        1\n",
       "top        True\n",
       "freq      89867\n",
       "Name: visible, dtype: object"
      ]
     },
     "execution_count": 9,
     "metadata": {},
     "output_type": "execute_result"
    }
   ],
   "source": [
    "(animal.visible == True).describe()"
   ]
  },
  {
   "cell_type": "markdown",
   "metadata": {},
   "source": [
    "## Display histograms"
   ]
  },
  {
   "cell_type": "code",
   "execution_count": 10,
   "metadata": {},
   "outputs": [],
   "source": [
    "%matplotlib inline"
   ]
  },
  {
   "cell_type": "code",
   "execution_count": 11,
   "metadata": {},
   "outputs": [
    {
     "data": {
      "image/png": "[encoded data removed]",
      "text/plain": [
       "<Figure size 432x288 with 1 Axes>"
      ]
     },
     "metadata": {
      "needs_background": "light"
     },
     "output_type": "display_data"
    }
   ],
   "source": [
    "histogram = animal.hist('location_long')"
   ]
  },
  {
   "cell_type": "code",
   "execution_count": 12,
   "metadata": {},
   "outputs": [
    {
     "data": {
      "image/png": "[encoded data removed]",
      "text/plain": [
       "<Figure size 432x288 with 1 Axes>"
      ]
     },
     "metadata": {
      "needs_background": "light"
     },
     "output_type": "display_data"
    }
   ],
   "source": [
    "histogram2 = animal.hist('location_lat')"
   ]
  },
  {
   "cell_type": "code",
   "execution_count": null,
   "metadata": {},
   "outputs": [],
   "source": []
  },
  {
   "cell_type": "code",
   "execution_count": null,
   "metadata": {},
   "outputs": [],
   "source": []
  }
 ],
 "metadata": {
  "kernelspec": {
   "display_name": "Python 3",
   "language": "python",
   "name": "python3"
  },
  "language_info": {
   "codemirror_mode": {
    "name": "ipython",
    "version": 3
   },
   "file_extension": ".py",
   "mimetype": "text/x-python",
   "name": "python",
   "nbconvert_exporter": "python",
   "pygments_lexer": "ipython3",
   "version": "3.7.6"
  }
 },
 "nbformat": 4,
 "nbformat_minor": 4
}
